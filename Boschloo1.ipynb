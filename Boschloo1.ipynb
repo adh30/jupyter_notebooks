{
 "cells": [
  {
   "cell_type": "markdown",
   "id": "c848e7fd-135e-44b3-a46a-9818bbd37472",
   "metadata": {},
   "source": [
    "# Boschloo's exact test"
   ]
  },
  {
   "cell_type": "markdown",
   "id": "445ca6b3-2108-4441-bce6-d168a39cb3b7",
   "metadata": {},
   "source": [
    "Boschloo’s test is an exact test used in the analysis of contingency tables. It examines the association of two categorical variables, and is a uniformly more powerful alternative to Fisher’s exact test for 2x2 contingency tables.\n",
    "Boschloo’s exact test uses the p-value of Fisher’s exact test as a statistic, and Boschloo’s p-value is the probability under the null hypothesis of observing such an extreme value of this statistic."
   ]
  },
  {
   "cell_type": "code",
   "execution_count": 1,
   "id": "160b1f77-1fe2-4461-9920-ed9b66029095",
   "metadata": {},
   "outputs": [],
   "source": [
    "import scipy.stats as stats"
   ]
  },
  {
   "cell_type": "markdown",
   "id": "8d256fff-b32e-4ed3-a7cf-07498c914599",
   "metadata": {},
   "source": [
    "Below is a standard example from https://docs.scipy.org/doc/scipy/reference/generated/scipy.stats.boschloo_exact.html\n",
    "The data are:"
   ]
  },
  {
   "cell_type": "markdown",
   "id": "630f1de0-1be0-436d-a33f-506f86511bde",
   "metadata": {},
   "source": [
    "|  | Professors | Scientists |\n",
    "| --- | --- | --- |\n",
    "| Satisfied | 74 | 31 |\n",
    "| Dissatisfied | 43 | 32 |"
   ]
  },
  {
   "cell_type": "code",
   "execution_count": 2,
   "id": "4b7c31d8",
   "metadata": {},
   "outputs": [],
   "source": [
    "res = stats.boschloo_exact([[74, 31], [43, 32]], alternative=\"two-sided\")"
   ]
  },
  {
   "cell_type": "code",
   "execution_count": 12,
   "id": "659f43c2",
   "metadata": {},
   "outputs": [
    {
     "data": {
      "text/plain": [
       "0.04831221008690563"
      ]
     },
     "execution_count": 12,
     "metadata": {},
     "output_type": "execute_result"
    }
   ],
   "source": [
    "res.statistic"
   ]
  },
  {
   "cell_type": "code",
   "execution_count": 13,
   "id": "89184073",
   "metadata": {},
   "outputs": [
    {
     "data": {
      "text/plain": [
       "0.0711281286030935"
      ]
     },
     "execution_count": 13,
     "metadata": {},
     "output_type": "execute_result"
    }
   ],
   "source": [
    "res.pvalue"
   ]
  },
  {
   "cell_type": "markdown",
   "id": "ea18ffde-1609-486c-9dca-1ae154495434",
   "metadata": {},
   "source": [
    "Alex's data are:"
   ]
  },
  {
   "cell_type": "markdown",
   "id": "2335a0b3-a7f6-44a6-b20a-df9bc14b7dff",
   "metadata": {},
   "source": [
    "|  | Men | Women |\n",
    "| --- | --- | --- |\n",
    "| Mild | 4 | 4 |\n",
    "| Moderate/Severe | 1 | 9 |"
   ]
  },
  {
   "cell_type": "code",
   "execution_count": 16,
   "id": "b4a2ff03",
   "metadata": {},
   "outputs": [],
   "source": [
    "res = stats.boschloo_exact([[4, 4], [1, 9]], alternative=\"two-sided\")"
   ]
  },
  {
   "cell_type": "code",
   "execution_count": 17,
   "id": "45f61904",
   "metadata": {},
   "outputs": [
    {
     "data": {
      "text/plain": [
       "0.08823529411764704"
      ]
     },
     "execution_count": 17,
     "metadata": {},
     "output_type": "execute_result"
    }
   ],
   "source": [
    "res.statistic"
   ]
  },
  {
   "cell_type": "code",
   "execution_count": 18,
   "id": "d1c27c9d",
   "metadata": {},
   "outputs": [
    {
     "data": {
      "text/plain": [
       "0.0782998345966956"
      ]
     },
     "execution_count": 18,
     "metadata": {},
     "output_type": "execute_result"
    }
   ],
   "source": [
    "res.pvalue"
   ]
  },
  {
   "cell_type": "code",
   "execution_count": null,
   "id": "b14547b0",
   "metadata": {},
   "outputs": [],
   "source": []
  }
 ],
 "metadata": {
  "kernelspec": {
   "display_name": "Python 3 (ipykernel)",
   "language": "python",
   "name": "python3"
  },
  "language_info": {
   "codemirror_mode": {
    "name": "ipython",
    "version": 3
   },
   "file_extension": ".py",
   "mimetype": "text/x-python",
   "name": "python",
   "nbconvert_exporter": "python",
   "pygments_lexer": "ipython3",
   "version": "3.9.13"
  }
 },
 "nbformat": 4,
 "nbformat_minor": 5
}
